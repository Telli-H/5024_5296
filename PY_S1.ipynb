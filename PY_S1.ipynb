{
  "nbformat": 4,
  "nbformat_minor": 0,
  "metadata": {
    "colab": {
      "provenance": [],
      "include_colab_link": true
    },
    "kernelspec": {
      "name": "python3",
      "display_name": "Python 3"
    },
    "language_info": {
      "name": "python"
    }
  },
  "cells": [
    {
      "cell_type": "markdown",
      "metadata": {
        "id": "view-in-github",
        "colab_type": "text"
      },
      "source": [
        "<a href=\"https://colab.research.google.com/github/Telli-H/5024_5296/blob/main/PY_S1.ipynb\" target=\"_parent\"><img src=\"https://colab.research.google.com/assets/colab-badge.svg\" alt=\"Open In Colab\"/></a>"
      ]
    },
    {
      "cell_type": "code",
      "execution_count": null,
      "metadata": {
        "id": "KfPx4qOMLD2q"
      },
      "outputs": [],
      "source": [
        "name = \"Murad\"\n",
        "age = 25\n",
        "height = 1.85\n",
        "is_student = True"
      ]
    },
    {
      "cell_type": "code",
      "source": [
        "# Cell 1: Variables and Data Types\n",
        "# Run this cell to understand basic variable types\n",
        "name = \"John Doe\"\n",
        "age = 25\n",
        "height = 1.75\n",
        "is_student = True\n",
        "\n",
        "print(\"Variable Types Demo:\")\n",
        "print(f\"name: {name} (type: {type(name)})\")\n",
        "print(f\"age: {age} (type: {type(age)})\")\n",
        "print(f\"height: {height} (type: {type(height)})\")\n",
        "print(f\"is_student: {is_student} (type: {type(is_student)})\")\n",
        "\n"
      ],
      "metadata": {
        "colab": {
          "base_uri": "https://localhost:8080/"
        },
        "id": "SqkTO8yiLXth",
        "outputId": "873197f7-4662-4378-addd-3dc5d91786c4"
      },
      "execution_count": null,
      "outputs": [
        {
          "output_type": "stream",
          "name": "stdout",
          "text": [
            "Variable Types Demo:\n",
            "name: John Doe (type: <class 'str'>)\n",
            "age: 25 (type: <class 'int'>)\n",
            "height: 1.75 (type: <class 'float'>)\n",
            "is_student: True (type: <class 'bool'>)\n"
          ]
        }
      ]
    },
    {
      "cell_type": "code",
      "source": [
        "# Cell 2: Basic Operations\n",
        "# Run this cell to practice arithmetic operations\n",
        "a = 10\n",
        "b = 3\n",
        "\n",
        "print(\"Basic Math Operations:\")\n",
        "print(f\"Addition: {a} + {b} = {a + b}\")\n",
        "print(f\"Subtraction: {a} - {b} = {a - b}\")\n",
        "print(f\"Multiplication: {a} * {b} = {a * b}\")\n",
        "print(f\"Division: {a} / {b} = {a / b}\")\n",
        "print(f\"Floor Division: {a} // {b} = {a // b}\")\n",
        "print(f\"Modulus: {a} % {b} = {a % b}\")\n",
        "print(f\"Exponentiation: {a} ** {b} = {a ** b}\")\n",
        "\n"
      ],
      "metadata": {
        "colab": {
          "base_uri": "https://localhost:8080/"
        },
        "id": "kyoByuf4MBew",
        "outputId": "3accd533-55f8-409d-da79-3e37a047a343"
      },
      "execution_count": null,
      "outputs": [
        {
          "output_type": "stream",
          "name": "stdout",
          "text": [
            "Basic Math Operations:\n",
            "Addition: 10 + 3 = 13\n",
            "Subtraction: 10 - 3 = 7\n",
            "Multiplication: 10 * 3 = 30\n",
            "Division: 10 / 3 = 3.3333333333333335\n",
            "Floor Division: 10 // 3 = 3\n",
            "Modulus: 10 % 3 = 1\n",
            "Exponentiation: 10 ** 3 = 1000\n"
          ]
        }
      ]
    },
    {
      "cell_type": "code",
      "source": [
        "# Cell 3: Control Structures - If/Else\n",
        "# Run this cell to see how conditional statements work\n",
        "score = 85\n",
        "\n",
        "print(\"Grade Calculator:\")\n",
        "if score >= 90:\n",
        "    grade = \"A\"\n",
        "elif score >= 80:\n",
        "    grade = \"B\"\n",
        "elif score >= 70:\n",
        "    grade = \"C\"\n",
        "else:\n",
        "    grade = \"F\"\n",
        "\n",
        "print(f\"Score: {score}\")\n",
        "print(f\"Grade: {grade}\")\n",
        "\n"
      ],
      "metadata": {
        "colab": {
          "base_uri": "https://localhost:8080/"
        },
        "id": "PykyuFgfMDzn",
        "outputId": "28609a2e-a43f-432d-f231-9ef8ceb495d7"
      },
      "execution_count": null,
      "outputs": [
        {
          "output_type": "stream",
          "name": "stdout",
          "text": [
            "Grade Calculator:\n",
            "Score: 85\n",
            "Grade: B\n"
          ]
        }
      ]
    },
    {
      "cell_type": "code",
      "source": [
        "# Cell 4: Loops\n",
        "# Run this cell to see different types of loops in action\n",
        "print(\"For Loop - Counting:\")\n",
        "for i in range(5):\n",
        "    print(f\"Count: {i}\")\n",
        "\n",
        "print(\"\\nWhile Loop - Countdown:\")\n",
        "count = 3\n",
        "while count > 0:\n",
        "    print(f\"Countdown: {count}\")\n",
        "    count -= 1\n",
        "print(\"Blast off!\")\n",
        "\n"
      ],
      "metadata": {
        "colab": {
          "base_uri": "https://localhost:8080/"
        },
        "id": "iXq_1b8XMFnA",
        "outputId": "a740b1d6-751d-4900-8531-e076ee861ec9"
      },
      "execution_count": null,
      "outputs": [
        {
          "output_type": "stream",
          "name": "stdout",
          "text": [
            "For Loop - Counting:\n",
            "Count: 0\n",
            "Count: 1\n",
            "Count: 2\n",
            "Count: 3\n",
            "Count: 4\n",
            "\n",
            "While Loop - Countdown:\n",
            "Countdown: 3\n",
            "Countdown: 2\n",
            "Countdown: 1\n",
            "Blast off!\n"
          ]
        }
      ]
    },
    {
      "cell_type": "code",
      "source": [
        "# Cell 5: Functions\n",
        "# Run this cell to understand function definition and usage\n",
        "def calculate_circle_area(radius):\n",
        "    \"\"\"Calculate the area of a circle given its radius\"\"\"\n",
        "    PI = 3.14159\n",
        "    area = PI * radius ** 2\n",
        "    return area\n",
        "\n",
        "# Test the function with different radii\n",
        "test_radii = [1, 2, 5]\n",
        "print(\"Circle Area Calculator:\")\n",
        "for radius in test_radii:\n",
        "    area = calculate_circle_area(radius)\n",
        "    print(f\"Radius: {radius}, Area: {area:.2f}\")\n",
        "\n"
      ],
      "metadata": {
        "colab": {
          "base_uri": "https://localhost:8080/"
        },
        "id": "wJywHwQQMG2Z",
        "outputId": "d2779c93-eff3-4614-d13b-e37e34c1ada6"
      },
      "execution_count": null,
      "outputs": [
        {
          "output_type": "stream",
          "name": "stdout",
          "text": [
            "Circle Area Calculator:\n",
            "Radius: 1, Area: 3.14\n",
            "Radius: 2, Area: 12.57\n",
            "Radius: 5, Area: 78.54\n"
          ]
        }
      ]
    },
    {
      "cell_type": "code",
      "source": [
        "# Cell 6: Practical Example - Temperature Converter\n",
        "def convert_temperature():\n",
        "    \"\"\"Interactive temperature converter between Celsius and Fahrenheit\"\"\"\n",
        "    temp = float(input(\"Enter temperature value: \"))\n",
        "    unit = input(\"Enter unit (C for Celsius, F for Fahrenheit): \").upper()\n",
        "\n",
        "    if unit == 'C':\n",
        "        fahrenheit = (temp * 9/5) + 32\n",
        "        print(f\"{temp}°C = {fahrenheit:.1f}°F\")\n",
        "    elif unit == 'F':\n",
        "        celsius = (temp - 32) * 5/9\n",
        "        print(f\"{temp}°F = {celsius:.1f}°C\")\n",
        "    else:\n",
        "        print(\"Invalid unit! Please use C or F.\")\n",
        "\n",
        "print(\"Temperature Converter\")\n",
        "print(\"--------------------\")\n",
        "# Uncomment the next line to run the interactive converter\n",
        "# convert_temperature()\n",
        "\n"
      ],
      "metadata": {
        "colab": {
          "base_uri": "https://localhost:8080/"
        },
        "id": "bWqj0ZsoMIC7",
        "outputId": "86a241ad-6830-4fe2-c2cf-1ec2e7c32f93"
      },
      "execution_count": null,
      "outputs": [
        {
          "output_type": "stream",
          "name": "stdout",
          "text": [
            "Temperature Converter\n",
            "--------------------\n"
          ]
        }
      ]
    },
    {
      "cell_type": "code",
      "source": [
        "# Cell 7: Working with Lists\n",
        "# Run this cell to learn about list operations\n",
        "fruits = ['apple', 'banana', 'orange']\n",
        "print(\"List Operations:\")\n",
        "print(f\"Original list: {fruits}\")\n",
        "\n",
        "# Add an item\n",
        "fruits.append('grape')\n",
        "print(f\"After append: {fruits}\")\n",
        "\n",
        "# Insert at specific position\n",
        "fruits.insert(1, 'mango')\n",
        "print(f\"After insert: {fruits}\")\n",
        "\n",
        "# Remove an item\n",
        "fruits.remove('banana')\n",
        "print(f\"After remove: {fruits}\")\n",
        "\n",
        "# Access by index\n",
        "print(f\"First fruit: {fruits[0]}\")\n",
        "print(f\"Last fruit: {fruits[-1]}\")\n",
        "\n"
      ],
      "metadata": {
        "colab": {
          "base_uri": "https://localhost:8080/"
        },
        "id": "_xXBzr-JMJiz",
        "outputId": "705890b6-a81e-480e-ef2a-415c9495b8d8"
      },
      "execution_count": null,
      "outputs": [
        {
          "output_type": "stream",
          "name": "stdout",
          "text": [
            "List Operations:\n",
            "Original list: ['apple', 'banana', 'orange']\n",
            "After append: ['apple', 'banana', 'orange', 'grape']\n",
            "After insert: ['apple', 'mango', 'banana', 'orange', 'grape']\n",
            "After remove: ['apple', 'mango', 'orange', 'grape']\n",
            "First fruit: apple\n",
            "Last fruit: grape\n"
          ]
        }
      ]
    },
    {
      "cell_type": "code",
      "source": [
        "# Cell 8A: Without Error Handling\n",
        "# This version shows what happens without proper error handling\n",
        "print(\"Version 1: Without Error Handling\")\n",
        "print(\"---------------------------------\")\n",
        "\n",
        "def divide_numbers_unsafe(a, b):\n",
        "    # No error handling - direct division\n",
        "    result = a / b\n",
        "    return result\n",
        "\n",
        "# Test the function\n",
        "print(\"Testing unsafe division:\")\n",
        "try:\n",
        "    print(\"Test 1: Normal division\")\n",
        "    print(f\"10/2 = {divide_numbers_unsafe(10, 2)}\")\n",
        "\n",
        "    print(\"\\nTest 2: Division by zero\")\n",
        "    print(f\"10/0 = {divide_numbers_unsafe(10, 0)}\")  # This will crash!\n",
        "except Exception as e:\n",
        "    print(f\"💥 Program crashed with error: {str(e)}\")\n",
        "    print(\"Further code won't execute in normal circumstances!\")\n",
        "\n",
        "print(\"\\nTest 3: Invalid type\")\n",
        "try:\n",
        "    print(f\"10/'a' = {divide_numbers_unsafe(10, 'a')}\")  # This will crash!\n",
        "except Exception as e:\n",
        "    print(f\"💥 Program crashed with error: {str(e)}\")\n",
        "    print(\"Program stops here in real applications!\")\n",
        "\n"
      ],
      "metadata": {
        "colab": {
          "base_uri": "https://localhost:8080/"
        },
        "id": "kVtbXLc2MLIo",
        "outputId": "740031e3-64b3-446f-c513-09c50edfc480"
      },
      "execution_count": null,
      "outputs": [
        {
          "output_type": "stream",
          "name": "stdout",
          "text": [
            "Version 1: Without Error Handling\n",
            "---------------------------------\n",
            "Testing unsafe division:\n",
            "Test 1: Normal division\n",
            "10/2 = 5.0\n",
            "\n",
            "Test 2: Division by zero\n",
            "💥 Program crashed with error: division by zero\n",
            "Further code won't execute in normal circumstances!\n",
            "\n",
            "Test 3: Invalid type\n",
            "💥 Program crashed with error: unsupported operand type(s) for /: 'int' and 'str'\n",
            "Program stops here in real applications!\n"
          ]
        }
      ]
    },
    {
      "cell_type": "code",
      "source": [
        "# Cell 8B: With Proper Error Handling\n",
        "print(\"\\n\\nVersion 2: With Error Handling\")\n",
        "print(\"-------------------------------\")\n",
        "\n",
        "def divide_numbers_safe(a, b):\n",
        "    try:\n",
        "        # Input validation\n",
        "        if not isinstance(a, (int, float)) or not isinstance(b, (int, float)):\n",
        "            return \"Error: Both inputs must be numbers!\"\n",
        "\n",
        "        # Division operation with error handling\n",
        "        result = a / b\n",
        "        return f\"Success! Result = {result}\"\n",
        "\n",
        "    except ZeroDivisionError:\n",
        "        return \"Error: Cannot divide by zero! Please check your divisor.\"\n",
        "    except TypeError:\n",
        "        return \"Error: Invalid operation! Please check your input types.\"\n",
        "    except Exception as e:\n",
        "        return f\"Error: Something unexpected happened! ({str(e)})\"\n",
        "    finally:\n",
        "        # This block always executes\n",
        "        print(f\"Attempted to divide {a} by {b}\")\n",
        "\n",
        "# Test the function\n",
        "print(\"Testing safe division:\")\n",
        "print(\"\\nTest 1: Normal division\")\n",
        "print(f\"10/2 → {divide_numbers_safe(10, 2)}\")\n",
        "\n",
        "print(\"\\nTest 2: Division by zero\")\n",
        "print(f\"10/0 → {divide_numbers_safe(10, 0)}\")\n",
        "\n",
        "print(\"\\nTest 3: Invalid type\")\n",
        "print(f\"10/'a' → {divide_numbers_safe(10, 'a')}\")\n",
        "\n",
        "print(\"\\nTest 4: More complex case\")\n",
        "print(f\"'10'/0 → {divide_numbers_safe('10', 0)}\")\n",
        "\n"
      ],
      "metadata": {
        "colab": {
          "base_uri": "https://localhost:8080/"
        },
        "id": "Cn1bQRfvML1J",
        "outputId": "cabcd015-9fa7-40eb-b500-c81db163d3a1"
      },
      "execution_count": null,
      "outputs": [
        {
          "output_type": "stream",
          "name": "stdout",
          "text": [
            "\n",
            "\n",
            "Version 2: With Error Handling\n",
            "-------------------------------\n",
            "Testing safe division:\n",
            "\n",
            "Test 1: Normal division\n",
            "Attempted to divide 10 by 2\n",
            "10/2 → Success! Result = 5.0\n",
            "\n",
            "Test 2: Division by zero\n",
            "Attempted to divide 10 by 0\n",
            "10/0 → Error: Cannot divide by zero! Please check your divisor.\n",
            "\n",
            "Test 3: Invalid type\n",
            "Attempted to divide 10 by a\n",
            "10/'a' → Error: Both inputs must be numbers!\n",
            "\n",
            "Test 4: More complex case\n",
            "Attempted to divide 10 by 0\n",
            "'10'/0 → Error: Both inputs must be numbers!\n"
          ]
        }
      ]
    },
    {
      "cell_type": "code",
      "source": [
        "# Additional demonstration with a real-world scenario\n",
        "print(\"\\nReal-world Example: Processing Multiple Calculations\")\n",
        "print(\"------------------------------------------------\")\n",
        "\n",
        "numbers_to_divide = [\n",
        "    (10, 2),    # Normal case\n",
        "    (10, 0),    # Division by zero\n",
        "    (10, 'a'),  # Type error\n",
        "    (8, 4),     # Normal case\n",
        "    ('x', 'y')  # Invalid input\n",
        "]\n",
        "\n",
        "print(\"\\nUnsafe version would stop at first error!\")\n",
        "print(\"Safe version processes all items:\")\n",
        "\n",
        "for i, (num, denom) in enumerate(numbers_to_divide, 1):\n",
        "    result = divide_numbers_safe(num, denom)\n",
        "    print(f\"\\nCalculation {i}: {num} ÷ {denom}\")\n",
        "    print(f\"Result: {result}\")"
      ],
      "metadata": {
        "id": "kf9abFhpMh7n",
        "outputId": "8da38a58-15d3-4f17-9c4a-37f669043b04",
        "colab": {
          "base_uri": "https://localhost:8080/"
        }
      },
      "execution_count": null,
      "outputs": [
        {
          "output_type": "stream",
          "name": "stdout",
          "text": [
            "\n",
            "Real-world Example: Processing Multiple Calculations\n",
            "------------------------------------------------\n",
            "\n",
            "Unsafe version would stop at first error!\n",
            "Safe version processes all items:\n",
            "Attempted to divide 10 by 2\n",
            "\n",
            "Calculation 1: 10 ÷ 2\n",
            "Result: Success! Result = 5.0\n",
            "Attempted to divide 10 by 0\n",
            "\n",
            "Calculation 2: 10 ÷ 0\n",
            "Result: Error: Cannot divide by zero! Please check your divisor.\n",
            "Attempted to divide 10 by a\n",
            "\n",
            "Calculation 3: 10 ÷ a\n",
            "Result: Error: Both inputs must be numbers!\n",
            "Attempted to divide 8 by 4\n",
            "\n",
            "Calculation 4: 8 ÷ 4\n",
            "Result: Success! Result = 2.0\n",
            "Attempted to divide x by y\n",
            "\n",
            "Calculation 5: x ÷ y\n",
            "Result: Error: Both inputs must be numbers!\n"
          ]
        }
      ]
    },
    {
      "cell_type": "code",
      "source": [],
      "metadata": {
        "id": "NozmQsHKMj1n"
      },
      "execution_count": null,
      "outputs": []
    }
  ]
}